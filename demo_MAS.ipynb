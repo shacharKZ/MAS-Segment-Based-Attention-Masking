{
 "cells": [
  {
   "cell_type": "code",
   "execution_count": null,
   "metadata": {},
   "outputs": [],
   "source": [
    "import sys\n",
    "import os\n",
    "\n",
    "import torch\n",
    "from transformers import AutoTokenizer, AutoModelForCausalLM, GenerationConfig\n",
    "from peft import PeftModel\n",
    "\n",
    "from matplotlib.colors import LinearSegmentedColormap\n",
    "import matplotlib.pyplot as plt\n",
    "import matplotlib as mpl\n",
    "import seaborn as sns"
   ]
  },
  {
   "cell_type": "code",
   "execution_count": 2,
   "metadata": {},
   "outputs": [],
   "source": [
    "# project imports\n",
    "try:\n",
    "    import ft_utils\n",
    "    import utils_dora\n",
    "    from commonsense.commonsense_evaluate import generate_prompt\n",
    "    from mas_llama_impl.modeling_mas_llama import MasLlamaForCausalLM\n",
    "except Exception as e:\n",
    "    print(f'ERROR: could not import project modules! make sure you are running this script from the project root directory and that all imported files are present.')\n",
    "    raise e"
   ]
  },
  {
   "cell_type": "code",
   "execution_count": 3,
   "metadata": {},
   "outputs": [
    {
     "name": "stdout",
     "output_type": "stream",
     "text": [
      "Using device: cpu\n",
      "Platform is MAC OS. Setting backend to DEBUG mode for FP16->FP32 conversion\n"
     ]
    }
   ],
   "source": [
    "device = torch.device(\"cuda\" if torch.cuda.is_available() else \"cpu\")\n",
    "print(f'Using device: {device}')\n",
    "\n",
    "DEBUG_FLAG = False\n",
    "\n",
    "if sys.platform == 'darwin':  # check if platform is MAC OS\n",
    "    print('Platform is MAC OS. Setting backend to DEBUG mode for FP16->FP32 conversion')\n",
    "    DEBUG_FLAG = True  # this is due most macs not supporting FP16 operations"
   ]
  },
  {
   "cell_type": "code",
   "execution_count": 4,
   "metadata": {},
   "outputs": [],
   "source": [
    "llama_base_model = 'meta-llama/Llama-3.2-1B'\n",
    "\n",
    "# NOTE: make sure this folde is present and contains the checkpoint files 'adapter_model.safetensors' and 'adapter_config.json'\n",
    "path_lora_weights_causal = 'trained_models_and_results/Llama-3.2-1B_epoch3'\n",
    "path_lora_weights_mas = 'trained_models_and_results/Llama-3.2-1B_epoch3_MAS'\n",
    "\n",
    "# make sure the weights are present\n",
    "if not os.path.exists(path_lora_weights_causal):\n",
    "    print(f'ERROR: could not find causal model weights at {path_lora_weights_causal}')\n",
    "    sys.exit(1)\n",
    "\n",
    "if not os.path.exists(path_lora_weights_mas):\n",
    "    print(f'ERROR: could not find mas model weights at {path_lora_weights_mas}')\n",
    "    sys.exit(1)"
   ]
  },
  {
   "cell_type": "code",
   "execution_count": 5,
   "metadata": {},
   "outputs": [
    {
     "name": "stdout",
     "output_type": "stream",
     "text": [
      "Overriding preferred_dtype to torch.float32 due to DEBUG_FLAG\n"
     ]
    },
    {
     "name": "stderr",
     "output_type": "stream",
     "text": [
      "The argument `trust_remote_code` is to be used with Auto classes. It has no effect here and is ignored.\n",
      "You are using a model of type llama to instantiate a model of type mas_llama. This is not supported for all configurations of models and can yield errors.\n"
     ]
    },
    {
     "name": "stdout",
     "output_type": "stream",
     "text": [
      "Init MAS model with config.MAS_template: commonsense\n"
     ]
    }
   ],
   "source": [
    "preferred_dtype = ft_utils.get_preferred_dtype_per_model(llama_base_model)\n",
    "if DEBUG_FLAG:\n",
    "    preferred_dtype = torch.float32\n",
    "    print(f'Overriding preferred_dtype to torch.float32 due to DEBUG_FLAG')\n",
    "\n",
    "tokenizer = AutoTokenizer.from_pretrained(llama_base_model)  # same as the original model\n",
    "utils_dora.set_pad_token(tokenizer, model_name=llama_base_model)\n",
    "model_MAS = MasLlamaForCausalLM.from_pretrained(llama_base_model,\n",
    "                                                MAS_template='commonsense',  # important! this is the config that will identify the segments for MAS\n",
    "                                                attn_implementation=\"eager\",\n",
    "                                                trust_remote_code=True,\n",
    "                                                torch_dtype=preferred_dtype\n",
    "                                                )"
   ]
  },
  {
   "cell_type": "code",
   "execution_count": null,
   "metadata": {},
   "outputs": [],
   "source": [
    "model_MAS = PeftModel.from_pretrained(model_MAS,\n",
    "                                      path_lora_weights_mas,\n",
    "                                      ).eval().requires_grad_(False).to(device)\n",
    "model_MAS"
   ]
  },
  {
   "cell_type": "code",
   "execution_count": null,
   "metadata": {},
   "outputs": [],
   "source": [
    "model_causal = AutoModelForCausalLM.from_pretrained(llama_base_model,\n",
    "                                                    attn_implementation=\"eager\",\n",
    "                                                    trust_remote_code=True,\n",
    "                                                    torch_dtype=preferred_dtype\n",
    "                                                    )\n",
    "model_causal = PeftModel.from_pretrained(model_causal,\n",
    "                                            path_lora_weights_causal,\n",
    "                                            ).eval().requires_grad_(False).to(device)"
   ]
  },
  {
   "cell_type": "code",
   "execution_count": null,
   "metadata": {},
   "outputs": [],
   "source": [
    "prompt_data = {\n",
    "    'instruction': 'Please answer with yes/no if the following statement is true or false: doing push ups is a good way to stay fit.',\n",
    "    'input': '' # addiontal input, not mandatory\n",
    "}\n",
    "prompt = generate_prompt(instruction=prompt_data['instruction'],\n",
    "                         input=prompt_data['input'])\n",
    "inputs = tokenizer([prompt], return_tensors=\"pt\", padding=True).to(device)\n",
    "generation_config = GenerationConfig(\n",
    "        temperature=0.1,\n",
    "        top_p=0.75,\n",
    "        top_k=40,\n",
    "    )\n",
    "MAX_NEW_TOKENS = 16"
   ]
  },
  {
   "cell_type": "code",
   "execution_count": null,
   "metadata": {},
   "outputs": [],
   "source": [
    "generation_output_MAS = model_MAS.generate(\n",
    "            # input_ids=input_ids,\n",
    "            **inputs,  # adding input_ids and attention_mask (should not change anything)\n",
    "            generation_config=generation_config,\n",
    "            return_dict_in_generate=True,\n",
    "            output_scores=True,\n",
    "            output_attentions=True,\n",
    "            # output_attentions=True,\n",
    "            max_new_tokens=MAX_NEW_TOKENS,\n",
    "        )\n",
    "s = generation_output_MAS.sequences\n",
    "outputs_MAS = tokenizer.batch_decode(s, skip_special_tokens=True)\n",
    "print(f\"Outputs by MAS: {outputs_MAS[0]}\")\n",
    "outputs_MAS_only_answer = [o.split(\"### Response:\")[-1].strip() for o in outputs_MAS]\n",
    "print('-'*77, f'\\nMAS model answer (with input): \"{outputs_MAS_only_answer[0]}\"')"
   ]
  },
  {
   "cell_type": "code",
   "execution_count": null,
   "metadata": {},
   "outputs": [],
   "source": [
    "generation_output_causal = model_causal.generate(\n",
    "            **inputs,\n",
    "            generation_config=generation_config,\n",
    "            return_dict_in_generate=True,\n",
    "            output_scores=True,\n",
    "            output_attentions=True,\n",
    "            max_new_tokens=MAX_NEW_TOKENS,\n",
    "        )\n",
    "s = generation_output_causal.sequences\n",
    "outputs_causal = tokenizer.batch_decode(s, skip_special_tokens=True)\n",
    "print(f\"Putputs by causal: {outputs_causal[0]}\")\n",
    "outputs_causal_only_answer = [o.split(\"### Response:\")[-1].strip() for o in outputs_causal]\n",
    "print('-'*77, f'\\nCausal model answer (with input): \"{outputs_causal_only_answer[0]}\"')"
   ]
  },
  {
   "cell_type": "code",
   "execution_count": 11,
   "metadata": {},
   "outputs": [
    {
     "name": "stdout",
     "output_type": "stream",
     "text": [
      "6 16\n",
      "torch.Size([1, 32, 55, 55])\n",
      "torch.Size([1, 32, 1, 56])\n"
     ]
    }
   ],
   "source": [
    "# Explaining how the output looks like\n",
    "attn_heads = generation_output_MAS.attentions\n",
    "# attn_heads = generation_output_causal.attentions\n",
    "print(len(attn_heads), len(attn_heads[0]))  # amount of generated tokens, amount of layers\n",
    "print(attn_heads[0][0].shape) # batch size (1), amount of heads, amount of tokens, amount of tokens\n",
    "print(attn_heads[1][0].shape) # for the second token and forward, the final attention maps output is 1 X amount of previous tokens ( a vector rather than a matrix)"
   ]
  },
  {
   "cell_type": "code",
   "execution_count": 22,
   "metadata": {},
   "outputs": [],
   "source": [
    "# chose one of the following options which are nice to visualize\n",
    "\n",
    "layer_index = 0\n",
    "head_index = 25\n",
    "\n",
    "# # another nice option\n",
    "# layer_index = 10\n",
    "# head_index = 23\n",
    "\n",
    "batch_index = 0"
   ]
  },
  {
   "cell_type": "code",
   "execution_count": 23,
   "metadata": {},
   "outputs": [],
   "source": [
    "def stack_attn_output_into_attn_map(attn_heads, layer_index=layer_index, head_index=head_index, batch_index=0):\n",
    "    seq_final_lenght = attn_heads[-1][layer_index].shape[-1]\n",
    "    # stack all generated attentions for the same head\n",
    "    attn_maps = torch.zeros((seq_final_lenght, seq_final_lenght))\n",
    "    prompt_length = attn_heads[0][layer_index][batch_index, head_index].shape[-1]\n",
    "    attn_maps[:prompt_length, :prompt_length] = attn_heads[0][layer_index][batch_index, head_index]\n",
    "    for decoding_step in range(seq_final_lenght - prompt_length):\n",
    "        attn_maps[prompt_length + decoding_step, :prompt_length + decoding_step] = attn_heads[decoding_step + 1][0][batch_index, head_index, 0, :prompt_length + decoding_step]\n",
    "    return attn_maps\n",
    "\n",
    "attn_map_causal = stack_attn_output_into_attn_map(generation_output_causal.attentions)\n",
    "attn_map_mas = stack_attn_output_into_attn_map(generation_output_MAS.attentions)"
   ]
  },
  {
   "cell_type": "code",
   "execution_count": 26,
   "metadata": {},
   "outputs": [
    {
     "data": {
      "image/png": "[encoded data removed]",
      "text/plain": [
       "<Figure size 1400x500 with 4 Axes>"
      ]
     },
     "metadata": {},
     "output_type": "display_data"
    }
   ],
   "source": [
    "color_list = ['black', 'purple', 'darkorange', 'orange', 'bisque', 'floralwhite', 'floralwhite']\n",
    "cmap_viz = LinearSegmentedColormap.from_list(\"\",color_list)\n",
    "# cmap_viz = 'viridis'\n",
    "\n",
    "fig, (ax1, ax2) = plt.subplots(1, 2, figsize=(14, 5))\n",
    "for ax, curr_map, title in zip([ax1, ax2], [attn_map_causal, attn_map_mas], ['Causal', 'MAS']):\n",
    "    sns.heatmap(curr_map.cpu().detach().numpy(), ax=ax,\n",
    "                square=True,\n",
    "                cmap=cmap_viz,\n",
    "                xticklabels=False,\n",
    "                yticklabels=False,\n",
    "                cbar=True)\n",
    "    ax.set_title(title, fontsize=16)\n",
    "plt.suptitle(f'Attention maps L{layer_index}H{head_index} for MAS and Causal models', fontsize=16)\n",
    "plt.show()"
   ]
  }
 ],
 "metadata": {
  "kernelspec": {
   "display_name": "env311",
   "language": "python",
   "name": "python3"
  },
  "language_info": {
   "codemirror_mode": {
    "name": "ipython",
    "version": 3
   },
   "file_extension": ".py",
   "mimetype": "text/x-python",
   "name": "python",
   "nbconvert_exporter": "python",
   "pygments_lexer": "ipython3",
   "version": "3.11.10"
  }
 },
 "nbformat": 4,
 "nbformat_minor": 2
}
